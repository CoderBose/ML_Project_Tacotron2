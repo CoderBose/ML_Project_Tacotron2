{
 "cells": [
  {
   "attachments": {},
   "cell_type": "markdown",
   "metadata": {},
   "source": [
    "# REPRODUCING: NATURAL TTS SYNTHESIS BY CONDITIONING WAVENET ON MEL SPECTROGRAM PREDICTIONS\n",
    "\n",
    "_Chandra Shekhar Pandey, Priyanka Bose_\n"
   ]
  },
  {
   "attachments": {},
   "cell_type": "markdown",
   "metadata": {},
   "source": [
    "This project validates some of the qualitative claims made in the paper\n",
    "\n",
    "> J. Shen et al., \"Natural TTS Synthesis by Conditioning Wavenet on MEL Spectrogram Predictions,\" 2018 IEEE International Conference on Acoustics, Speech and Signal Processing (ICASSP), Calgary, AB, Canada, 2018, pp. 4779-4783, doi: 10.1109/ICASSP.2018.8461368.\n",
    "\n",
    "which describes Tacotron2, a neural network for predicting mel spectograms from text, which can then be used with a vocoder to synthesize speech.\n"
   ]
  },
  {
   "attachments": {},
   "cell_type": "markdown",
   "metadata": {},
   "source": [
    "To reproduce this work:\n",
    "\n",
    "* Use the `Colab_Chameleon_Ubuntu.ipynb` notebook to reserve a server on Chameleon, configure it with the required software and libraries, and set up an SSH tunnel between your local system and this server.\n",
    "* Then, open the `Tacotron2_validation.ipynb` notebook on Colab: [Tacotron2 validation](https://colab.research.google.com/github/indianspeedster/ML_Project_Tacotron2/blob/main/Tacotron2_validation.ipynb).\n",
    "* In the top-right part of the interface, click on the ▼ next to the word \"Connect\". Select \"Connect to a local runtime.\" Then paste the URL of your JupyterHub server from the first notebook.\n",
    "* You may then run the Tacotron2 notebook on Colab. "
   ]
  },
  {
   "cell_type": "markdown",
   "metadata": {},
   "source": []
  }
 ],
 "metadata": {
  "kernelspec": {
   "display_name": "Python 3",
   "language": "python",
   "name": "python3"
  },
  "language_info": {
   "name": "python",
   "version": "3.10.6 (main, Nov 14 2022, 16:10:14) [GCC 11.3.0]"
  },
  "orig_nbformat": 4,
  "vscode": {
   "interpreter": {
    "hash": "916dbcbb3f70747c44a77c7bcd40155683ae19c65e1c03b4aa3499c5328201f1"
   }
  }
 },
 "nbformat": 4,
 "nbformat_minor": 2
}
